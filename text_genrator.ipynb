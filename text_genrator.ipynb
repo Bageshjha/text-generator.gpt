{
 "cells": [
  {
   "cell_type": "code",
   "execution_count": 1,
   "id": "8060ec20",
   "metadata": {},
   "outputs": [],
   "source": [
    "import tensorflow as tf\n",
    "from transformers import GPT2LMHeadModel , GPT2Tokenizer"
   ]
  },
  {
   "cell_type": "code",
   "execution_count": 2,
   "id": "ba56812f",
   "metadata": {
    "scrolled": true
   },
   "outputs": [
    {
     "name": "stderr",
     "output_type": "stream",
     "text": [
      "C:\\Users\\bages\\anaconda3\\lib\\site-packages\\transformers\\tokenization_utils_base.py:1601: FutureWarning: `clean_up_tokenization_spaces` was not set. It will be set to `True` by default. This behavior will be depracted in transformers v4.45, and will be then set to `False` by default. For more details check this issue: https://github.com/huggingface/transformers/issues/31884\n",
      "  warnings.warn(\n"
     ]
    }
   ],
   "source": [
    "tokenizer = GPT2Tokenizer.from_pretrained(\"gpt2\")\n",
    "model = GPT2LMHeadModel.from_pretrained(\"gpt2\", pad_token_id=tokenizer.eos_token_id)"
   ]
  },
  {
   "cell_type": "code",
   "execution_count": 3,
   "id": "8ce29eb0",
   "metadata": {},
   "outputs": [
    {
     "data": {
      "text/plain": [
       "'<|endoftext|>'"
      ]
     },
     "execution_count": 3,
     "metadata": {},
     "output_type": "execute_result"
    }
   ],
   "source": [
    "tokenizer.decode(tokenizer.eos_token_id)"
   ]
  },
  {
   "cell_type": "code",
   "execution_count": 8,
   "id": "a9e76ab7",
   "metadata": {},
   "outputs": [
    {
     "name": "stdout",
     "output_type": "stream",
     "text": [
      "Enter a sentence: i love icecream\n"
     ]
    }
   ],
   "source": [
    "sentence = input(\"Enter a sentence: \")\n",
    "input_id = tokenizer.encode(sentence, return_tensors='pt')"
   ]
  },
  {
   "cell_type": "code",
   "execution_count": 9,
   "id": "e123bd7e",
   "metadata": {},
   "outputs": [
    {
     "data": {
      "text/plain": [
       "tensor([[   72,  1842,  4771, 36277]])"
      ]
     },
     "execution_count": 9,
     "metadata": {},
     "output_type": "execute_result"
    }
   ],
   "source": [
    "input_id"
   ]
  },
  {
   "cell_type": "code",
   "execution_count": 10,
   "id": "fa14898f",
   "metadata": {},
   "outputs": [
    {
     "data": {
      "text/plain": [
       "'i'"
      ]
     },
     "execution_count": 10,
     "metadata": {},
     "output_type": "execute_result"
    }
   ],
   "source": [
    "tokenizer.decode(input_id[0][0])"
   ]
  },
  {
   "cell_type": "code",
   "execution_count": 11,
   "id": "c456d245",
   "metadata": {},
   "outputs": [
    {
     "name": "stderr",
     "output_type": "stream",
     "text": [
      "The attention mask is not set and cannot be inferred from input because pad token is same as eos token. As a consequence, you may observe unexpected behavior. Please pass your input's `attention_mask` to obtain reliable results.\n"
     ]
    }
   ],
   "source": [
    "output = model.generate(input_id, max_length=500, num_beams=5, no_repeat_ngram_size=2, early_stopping=True)"
   ]
  },
  {
   "cell_type": "code",
   "execution_count": 12,
   "id": "f9d62902",
   "metadata": {},
   "outputs": [
    {
     "data": {
      "text/plain": [
       "tensor([[   72,  1842,  4771, 36277,    11,   475,   314,  1101,   407,  1654,\n",
       "           611,   314,  1183,  1683,   307,  1498,   284,   787,   340,   757,\n",
       "            13,   198,   198,    40,  1053,   587,  2111,   284,  3785,   503,\n",
       "           644,   284,   466,   351,   428,  8364,   329,   257,   981,   783,\n",
       "            11,   523,   314,  1807,   314,  1549,  2648,   340,   351,   345,\n",
       "            13,   632,   338,   257,  1049,   835,   284,   923,   534,  1110,\n",
       "           572,   826,    11,   290,   340,   338,   635,  1049,   329,   883,\n",
       "           286,   345,   508,   836,   470,   423,   257,  1256,   286,  4771,\n",
       "          8566,   319,  1021,    11,   393,   508,   655,   765,   284,  1949,\n",
       "          1223,   649,    13,   314,  1053,  3088,   257,  1178,  1180,  2842,\n",
       "           284,   779,   340,    11,  1390,  1262,   340,   355,   257, 21682,\n",
       "           278,    11,   355,   880,   355,  4375,   340,   284,   534,  4004,\n",
       "          4771,  1126,  4105,    13,  1002,   345,   821,  2045,   329,  1223,\n",
       "           257,  1310,  1180,    11,   314,  4047,  4313, 10627,   503,   616,\n",
       "           584, 14296,    11,   543,   314,  2911,   345,  1183,  1064,  7613,\n",
       "           287,  1642,   534,   898,    13,   843,   611,   345,   423,   597,\n",
       "          2683,   393,  3651,    11,  1254,  1479,   284,  2666,   606,   287,\n",
       "           262,  3651,  2174,     0, 50256]])"
      ]
     },
     "execution_count": 12,
     "metadata": {},
     "output_type": "execute_result"
    }
   ],
   "source": [
    "output"
   ]
  },
  {
   "cell_type": "code",
   "execution_count": 13,
   "id": "26498a4e",
   "metadata": {},
   "outputs": [
    {
     "name": "stdout",
     "output_type": "stream",
     "text": [
      "i love icecream, but I'm not sure if I'll ever be able to make it again.\n",
      "\n",
      "I've been trying to figure out what to do with this recipe for a while now, so I thought I'd share it with you. It's a great way to start your day off right, and it's also great for those of you who don't have a lot of ice cream on hand, or who just want to try something new. I've tried a few different ways to use it, including using it as a frosting, as well as adding it to your favorite ice creams. If you're looking for something a little different, I highly recommend checking out my other recipes, which I hope you'll find helpful in making your own. And if you have any questions or comments, feel free to leave them in the comments below!\n"
     ]
    }
   ],
   "source": [
    "print(tokenizer.decode(output[0], skip_special_tokens=True))"
   ]
  }
 ],
 "metadata": {
  "kernelspec": {
   "display_name": "Python 3 (ipykernel)",
   "language": "python",
   "name": "python3"
  },
  "language_info": {
   "codemirror_mode": {
    "name": "ipython",
    "version": 3
   },
   "file_extension": ".py",
   "mimetype": "text/x-python",
   "name": "python",
   "nbconvert_exporter": "python",
   "pygments_lexer": "ipython3",
   "version": "3.9.13"
  }
 },
 "nbformat": 4,
 "nbformat_minor": 5
}
